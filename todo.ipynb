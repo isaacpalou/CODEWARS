{
 "cells": [
  {
   "cell_type": "markdown",
   "metadata": {},
   "source": [
    "## Where my anagram at ?"
   ]
  },
  {
   "cell_type": "code",
   "execution_count": 18,
   "metadata": {},
   "outputs": [
    {
     "data": {
      "text/plain": [
       "['aabb', 'bbaa']"
      ]
     },
     "execution_count": 18,
     "metadata": {},
     "output_type": "execute_result"
    }
   ],
   "source": [
    "def anagrams(word, words):\n",
    "    list_anagrams = []\n",
    "    for elemento in words:\n",
    "        if sorted(word) == sorted(elemento):\n",
    "            list_anagrams.append(elemento)\n",
    "    return list_anagrams\n",
    "\n",
    "anagrams('abba', ['aabb', 'abcd', 'bbaa', 'dada'])"
   ]
  },
  {
   "cell_type": "markdown",
   "metadata": {},
   "source": [
    "## Sum of array singles"
   ]
  },
  {
   "cell_type": "code",
   "execution_count": 19,
   "metadata": {},
   "outputs": [],
   "source": [
    "def repeats(arr):\n",
    "    lista = []\n",
    "    for elemento in arr:\n",
    "        if (arr.count(elemento)) < 2:\n",
    "            lista.append(elemento)\n",
    "        else:\n",
    "            continue\n",
    "    return lista[0] + lista[1]"
   ]
  },
  {
   "cell_type": "markdown",
   "metadata": {},
   "source": [
    "## Duplicate Encoder"
   ]
  },
  {
   "cell_type": "code",
   "execution_count": 20,
   "metadata": {},
   "outputs": [],
   "source": [
    "def duplicate_encode(palabra):\n",
    "    complete_String = \"\"\n",
    "    palabra = palabra.lower()\n",
    "    for letra in palabra:\n",
    "        if palabra.count(letra) != 1:\n",
    "            complete_String += \")\"\n",
    "        else:\n",
    "            complete_String += \"(\"\n",
    "    return complete_String"
   ]
  },
  {
   "cell_type": "markdown",
   "metadata": {},
   "source": [
    "## Find the smallest integer in the array"
   ]
  },
  {
   "cell_type": "code",
   "execution_count": 21,
   "metadata": {},
   "outputs": [],
   "source": [
    "#Primera solución:\n",
    "def find_smallest_int(list):\n",
    "    sorted_numbers = sorted(list)\n",
    "    return sorted_numbers[0]\n",
    "#Solución refactorizada después de descubrir la funcion min():\n",
    "def find_smallest_int(list):\n",
    "    return min(list)"
   ]
  },
  {
   "cell_type": "markdown",
   "metadata": {},
   "source": [
    "## Does my number look big in this?"
   ]
  },
  {
   "cell_type": "code",
   "execution_count": 24,
   "metadata": {},
   "outputs": [
    {
     "data": {
      "text/plain": [
       "True"
      ]
     },
     "execution_count": 24,
     "metadata": {},
     "output_type": "execute_result"
    }
   ],
   "source": [
    "def narcissistic(input):\n",
    "    Num_a_sumar = []\n",
    "    elevador = len(str(input))\n",
    "    for number in str(input):\n",
    "        Num_a_sumar.append(int(number)**elevador)\n",
    "    if input == sum(Num_a_sumar):\n",
    "        return True\n",
    "    else:\n",
    "        return False"
   ]
  },
  {
   "cell_type": "markdown",
   "metadata": {},
   "source": [
    "## Are they the \"same\"?"
   ]
  },
  {
   "cell_type": "code",
   "execution_count": 11,
   "metadata": {},
   "outputs": [],
   "source": [
    "def comp(array1, array2):\n",
    "    if array1 == None or array2 == None:\n",
    "        return False\n",
    "    lista_final = []\n",
    "    for elemento in array1:\n",
    "        lista_final.append(elemento * elemento)\n",
    "    return sorted(lista_final) == sorted(array2)"
   ]
  },
  {
   "cell_type": "markdown",
   "metadata": {},
   "source": [
    "## Convert string to camel case"
   ]
  },
  {
   "cell_type": "code",
   "execution_count": 26,
   "metadata": {},
   "outputs": [
    {
     "data": {
      "text/plain": [
       "'theStealthWarrior'"
      ]
     },
     "execution_count": 26,
     "metadata": {},
     "output_type": "execute_result"
    }
   ],
   "source": [
    "def to_camel_case(text):\n",
    "    camel_text = text.replace(\"-\", \"_\").replace(\"_\", ' ').title()\n",
    "    camel_text = text[0] + camel_text[1:]\n",
    "    final_text = camel_text.replace(' ', '')\n",
    "    return final_text"
   ]
  },
  {
   "cell_type": "markdown",
   "metadata": {},
   "source": [
    "## Square every digit"
   ]
  },
  {
   "cell_type": "code",
   "execution_count": 17,
   "metadata": {},
   "outputs": [
    {
     "name": "stdout",
     "output_type": "stream",
     "text": [
      "811181\n"
     ]
    }
   ],
   "source": [
    "def squares(num):\n",
    "    lista = list(str(num))\n",
    "    #lista_final = []\n",
    "    a = \"\"\n",
    "    for numero in lista:\n",
    "        numero = int(numero)\n",
    "        a += str(numero * numero)\n",
    "    print(a)\n",
    "squares(9119)"
   ]
  }
 ],
 "metadata": {
  "interpreter": {
   "hash": "43f9c4b535a7aec0ee56e70fcb86c7e6d4850a84678fdc23c7252743c2313315"
  },
  "kernelspec": {
   "display_name": "Python 3.8.10 64-bit (windows store)",
   "name": "python3"
  },
  "language_info": {
   "codemirror_mode": {
    "name": "ipython",
    "version": 3
   },
   "file_extension": ".py",
   "mimetype": "text/x-python",
   "name": "python",
   "nbconvert_exporter": "python",
   "pygments_lexer": "ipython3",
   "version": "3.8.10"
  },
  "orig_nbformat": 4
 },
 "nbformat": 4,
 "nbformat_minor": 2
}
